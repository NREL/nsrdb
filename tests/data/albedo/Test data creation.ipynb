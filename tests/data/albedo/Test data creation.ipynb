{
 "cells": [
  {
   "cell_type": "markdown",
   "metadata": {},
   "source": [
    "# Albedo Test Data Creation\n",
    "This notebook creates clipped IMS, MODIS, and composite albedo data to use for testing. Selecting appropriate extents to clip to is slightly tricky as the IMS data is in a polar projection and does not always clip cleanly to a perfect rectangle."
   ]
  },
  {
   "cell_type": "code",
   "execution_count": 1,
   "metadata": {},
   "outputs": [
    {
     "data": {
      "text/plain": [
       "<module 'nsrdb.albedo.modis' from '/Users/mbannist/projects/nsrdb/code/nsrdb/albedo/modis.py'>"
      ]
     },
     "execution_count": 1,
     "metadata": {},
     "output_type": "execute_result"
    }
   ],
   "source": [
    "import sys\n",
    "import os\n",
    "from datetime import datetime as dt\n",
    "nsrdb_path = os.path.dirname(os.path.dirname(os.path.dirname(os.getcwd())))\n",
    "if nsrdb_path not in sys.path:\n",
    "    print('Adding nsrdb to path')\n",
    "    sys.path.append(nsrdb_path)\n",
    "\n",
    "import nsrdb.albedo.ims as ims\n",
    "import nsrdb.albedo.modis as modis\n",
    "import nsrdb.albedo.albedo as albedo\n",
    "\n",
    "import matplotlib.pyplot as plt\n",
    "import numpy as np\n",
    "import importlib\n",
    "from pyhdf.SD import SD, SDC, HDF4Error \n",
    "\n",
    "importlib.reload(ims)\n",
    "importlib.reload(modis)"
   ]
  },
  {
   "cell_type": "code",
   "execution_count": 9,
   "metadata": {},
   "outputs": [],
   "source": [
    "# Resolution to create test data for. ['1km', '4km']\n",
    "res = '1km'\n",
    "#res = '4km'\n",
    "\n",
    "# Extents have been carefully choosen to form perfect rectangles. This is somewhat challenging\n",
    "# as the IMS data is in a polar projection\n",
    "if res == '4km':\n",
    "    # 4km day\n",
    "    d = dt(2013, 1,1)\n",
    "    lat_min = 38 \n",
    "    lat_max = 39.02  \n",
    "    lon_min = -80\n",
    "    lon_max = -79\n",
    "    # Number of rows and columns in clipped IMS data\n",
    "    # TODO Determine this automatically, otherwise count by hand from scatter plot below\n",
    "    rows = 32\n",
    "    cols = 25\n",
    "    # Size of clipped MODIS data\n",
    "    m_shape = (122, 120)\n",
    "else:\n",
    "    # 1km day\n",
    "    d = ims.get_dt(2015, 1)\n",
    "    lat_min = 38 \n",
    "    lat_max = 38.5  \n",
    "    lon_min = -80.2\n",
    "    lon_max = -79.7\n",
    "    # Number of rows and columns in clipped IMS data, \n",
    "    rows = 64\n",
    "    cols = 50\n",
    "    # Size of clipped MODIS data\n",
    "    m_shape = (60, 61)\n",
    "\n",
    "# Path for real data. T -lis must be different than for the test data!!!\n",
    "data_path = './realdata'\n",
    "\n",
    "# Path for clipped test data\n",
    "test_data_path = '.'\n"
   ]
  },
  {
   "cell_type": "markdown",
   "metadata": {},
   "source": [
    "## Create IMS test data"
   ]
  },
  {
   "cell_type": "code",
   "execution_count": 10,
   "metadata": {},
   "outputs": [],
   "source": [
    "i = ims.ImsDay(d, data_path)\n",
    "#%matplotlib qt\n",
    "#plt.imshow(i.data ) \n",
    "#plt.colorbar()\n",
    "#plt.show()"
   ]
  },
  {
   "cell_type": "code",
   "execution_count": 11,
   "metadata": {},
   "outputs": [
    {
     "name": "stdout",
     "output_type": "stream",
     "text": [
      "Raw clipped data shape is: (3200,)\n"
     ]
    }
   ],
   "source": [
    "%matplotlib qt\n",
    "lat_msk =(lat_min <= i.lat) & (i.lat <= lat_max)\n",
    "lon_msk =(lon_min <= i.lon) & (i.lon <= lon_max)\n",
    "mask = lat_msk & lon_msk\n",
    "data_mskd = i.data.flatten()[mask]\n",
    "data_new = data_mskd.reshape((rows, cols))\n",
    "# Row order for IMS asc data is reversed, with \"top\" rows at bottom of file\n",
    "data_new_flipped = np.flipud(data_new)\n",
    "\n",
    "lat_mskd = i.lat[mask]\n",
    "lon_mskd = i.lon[mask]\n",
    "\n",
    "print('Raw clipped data shape is:', data_mskd.shape)\n",
    "#plt.style.use('ggplot')\n",
    "#plt.scatter(lon_mskd, lat_mskd, c = data_mskd)\n",
    "##for j, txt in enumerate(data_mskd):\n",
    "#    #plt.annotate(j, (lon_mskd[j], lat_mskd[j]))\n",
    "#plt.show()\n",
    "\n",
    "fig, axes = plt.subplots(1,3)\n",
    "axes[0].scatter(lon_mskd, lat_mskd, c = data_mskd)\n",
    "#for j, txt in enumerate(data_mskd):\n",
    "    #ax.annotate(j, (lon_mskd[j], lat_mskd[j]))\n",
    "axes[0].set_title( 'Clipped points')\n",
    "plt.show()\n",
    "\n",
    "axes[1].imshow(data_new)\n",
    "axes[1].set_title('Clipped data reshaped to grid')\n",
    "\n",
    "axes[2].imshow(data_new_flipped)\n",
    "axes[2].set_title('Clipped data reshaped and flipped')\n",
    "fig.suptitle('Please verify all results look correct')\n",
    "plt.show()"
   ]
  },
  {
   "cell_type": "markdown",
   "metadata": {},
   "source": [
    "## Write test IMS data to disk"
   ]
  },
  {
   "cell_type": "code",
   "execution_count": 12,
   "metadata": {},
   "outputs": [
    {
     "ename": "PermissionError",
     "evalue": "[Errno 13] Permission denied: './IMS1kmLats.24576x24576x1.double'",
     "output_type": "error",
     "traceback": [
      "\u001b[0;31m---------------------------------------------------------------------------\u001b[0m",
      "\u001b[0;31mPermissionError\u001b[0m                           Traceback (most recent call last)",
      "\u001b[0;32m<ipython-input-12-d94b33c89710>\u001b[0m in \u001b[0;36m<module>\u001b[0;34m\u001b[0m\n\u001b[1;32m     28\u001b[0m \u001b[0;31m# 1km meta data is stored as double, 4km as float32\u001b[0m\u001b[0;34m\u001b[0m\u001b[0;34m\u001b[0m\u001b[0;34m\u001b[0m\u001b[0m\n\u001b[1;32m     29\u001b[0m \u001b[0;32mif\u001b[0m \u001b[0mi\u001b[0m\u001b[0;34m.\u001b[0m\u001b[0mres\u001b[0m \u001b[0;34m==\u001b[0m \u001b[0;34m'1km'\u001b[0m\u001b[0;34m:\u001b[0m\u001b[0;34m\u001b[0m\u001b[0;34m\u001b[0m\u001b[0m\n\u001b[0;32m---> 30\u001b[0;31m     \u001b[0mlat_mskd\u001b[0m\u001b[0;34m.\u001b[0m\u001b[0mastype\u001b[0m\u001b[0;34m(\u001b[0m\u001b[0mnp\u001b[0m\u001b[0;34m.\u001b[0m\u001b[0mdouble\u001b[0m\u001b[0;34m)\u001b[0m\u001b[0;34m.\u001b[0m\u001b[0mtofile\u001b[0m\u001b[0;34m(\u001b[0m\u001b[0mlat_file\u001b[0m\u001b[0;34m)\u001b[0m\u001b[0;34m\u001b[0m\u001b[0;34m\u001b[0m\u001b[0m\n\u001b[0m\u001b[1;32m     31\u001b[0m     \u001b[0mlon_mskd\u001b[0m\u001b[0;34m.\u001b[0m\u001b[0mastype\u001b[0m\u001b[0;34m(\u001b[0m\u001b[0mnp\u001b[0m\u001b[0;34m.\u001b[0m\u001b[0mdouble\u001b[0m\u001b[0;34m)\u001b[0m\u001b[0;34m.\u001b[0m\u001b[0mtofile\u001b[0m\u001b[0;34m(\u001b[0m\u001b[0mlon_file\u001b[0m\u001b[0;34m)\u001b[0m\u001b[0;34m\u001b[0m\u001b[0;34m\u001b[0m\u001b[0m\n\u001b[1;32m     32\u001b[0m \u001b[0;32melse\u001b[0m\u001b[0;34m:\u001b[0m\u001b[0;34m\u001b[0m\u001b[0;34m\u001b[0m\u001b[0m\n",
      "\u001b[0;31mPermissionError\u001b[0m: [Errno 13] Permission denied: './IMS1kmLats.24576x24576x1.double'"
     ]
    }
   ],
   "source": [
    "meta_header = '''Total # scientific data sets: 1\n",
    "File description:\n",
    "This file contains Northern Hemisphere snow and ice coverage produced by the NOAA/NESDIS Interactive Multisensor Snow and Ice Mapping System (IMS) developed under the direction of the NOAA Ice Center (NIC) For more information please contact Mr. Sean Helfrich at sean.helfrich@noaa.gov\n",
    "<lines removed>\n",
    "   Dimension #       1\n",
    "     Dim Label:                         Latitude\n",
    "     Dim Format:                        Device Coordinates\n",
    "     Dim Units:                         Pixels\n",
    "'''\n",
    "# print(data_mskd)\n",
    "\n",
    "# Write masked IMS data to disk\n",
    "ifa = ims.ImsRealFileAcquisition(d, data_path)\n",
    "filename = os.path.join(test_data_path, os.path.split(ifa.filename)[1])\n",
    "with open(filename, 'wt') as f:\n",
    "    f.write(meta_header)\n",
    "    # write each row of data as a string\n",
    "    for r in data_new_flipped:\n",
    "        txt = ''.join(r.astype(str))\n",
    "        # print(txt)\n",
    "        f.write(txt)\n",
    "        f.write('\\n')\n",
    "    \n",
    "# Write meta data to disk\n",
    "lat_file = os.path.join(test_data_path, os.path.split(ifa.lat_file)[1])\n",
    "lon_file = os.path.join(test_data_path, os.path.split(ifa.lon_file)[1])\n",
    "\n",
    "# 1km meta data is stored as double, 4km as float32\n",
    "if i.res == '1km':\n",
    "    lat_mskd.astype(np.double).tofile(lat_file)\n",
    "    lon_mskd.astype(np.double).tofile(lon_file)\n",
    "else:\n",
    "    lat_mskd.tofile(lat_file)\n",
    "    lon_mskd.tofile(lon_file)\n",
    "print('Done!')"
   ]
  },
  {
   "cell_type": "markdown",
   "metadata": {},
   "source": [
    "## Reload IMS test data from disk and compare to original "
   ]
  },
  {
   "cell_type": "code",
   "execution_count": 13,
   "metadata": {},
   "outputs": [
    {
     "name": "stdout",
     "output_type": "stream",
     "text": [
      "Test data read from disk matches original clipped data\n"
     ]
    }
   ],
   "source": [
    "%matplotlib qt\n",
    "importlib.reload(ims)\n",
    "it = ims.ImsDay(d, test_data_path, shape=(rows, cols))\n",
    "\n",
    "fig, axes = plt.subplots(1,3)\n",
    "axes[0].scatter(lon_mskd, lat_mskd, c=data_mskd)\n",
    "axes[0].set_title('Clipped test data')\n",
    "axes[1].scatter(it.lon, it.lat, c=it.data.flatten())\n",
    "axes[1].set_title('Test data from disk')\n",
    "axes[2].imshow(it.data)\n",
    "#axes[1].scatter(it.lon, it.lat, c=it.data.flatten())\n",
    "axes[2].set_title('Test data from disk')\n",
    "fig.suptitle('Both data sets should match. Please check!')\n",
    "plt.show()\n",
    "\n",
    "if np.array_equal(data_new, it.data) and \\\n",
    "   np.array_equal(lon_mskd, it.lon) and \\\n",
    "   np.array_equal(lat_mskd, it.lat):\n",
    "    print('Test data read from disk matches original clipped data')\n",
    "else:\n",
    "    raise ValueError('Test data on disk does not match clipped data!')"
   ]
  },
  {
   "cell_type": "markdown",
   "metadata": {},
   "source": [
    "# Create MODIS test data"
   ]
  },
  {
   "cell_type": "code",
   "execution_count": null,
   "metadata": {},
   "outputs": [],
   "source": [
    "importlib.reload(modis) \n",
    "m = modis.ModisDay(d, data_path)\n",
    "lat_msk = (lat_min <= m.lat ) & (m.lat <= lat_max)\n",
    "lat_mskd = m.lat[lat_msk]\n",
    "lon_msk = (lon_min <= m.lon ) & (m.lon <= lon_max)\n",
    "lon_mskd = m.lon[lon_msk]\n",
    "data_mskd=m.data[np.ix_(lat_msk, lon_msk)] \n",
    "m_shape = data_mskd.shape\n",
    "print(f'MODIS test date shape: {m_shape}')\n",
    "\n",
    "# Create data data hdf file\n",
    "filename = os.path.join(test_data_path, os.path.split(m._filename)[1])\n",
    "print(f'Creating {os.path.abspath(filename)}')\n",
    "try:\n",
    "    os.remove(filename)\n",
    "except Exception as e:\n",
    "    print(e)\n",
    "    \n",
    "# The hdf creation code below is really touchy, restarting the kernel may help\n",
    "try:\n",
    "    hdf = SD(filename, SDC.WRITE | SDC.CREATE)\n",
    "    sds = hdf.create('Albedo_Map_0.3-5.0', SDC.FLOAT32, data_mskd.shape)\n",
    "    sds[:] = data_mskd\n",
    "    sds.endaccess()\n",
    "    sd_lat = hdf.create('Latitude', SDC.FLOAT32, lat_mskd.shape)\n",
    "    sd_lat[:] = lat_mskd\n",
    "    sd_lat.endaccess()\n",
    "    sd_lon = hdf.create('Longitude', SDC.FLOAT32, lon_mskd.shape)\n",
    "    sd_lon[:] = lon_mskd\n",
    "    sd_lon.endaccess()\n",
    "    hdf.end()\n",
    "except HDF4Error as e:\n",
    "    raise modis.ModisError(\"HDF Error\", e)\n",
    "print('Done!!')"
   ]
  },
  {
   "cell_type": "code",
   "execution_count": null,
   "metadata": {},
   "outputs": [],
   "source": [
    "%matplotlib qt\n",
    "# Compare test data saved to disk to data just clipped \n",
    "mt = modis.ModisDay(d, test_data_path, shape=m_shape)\n",
    "\n",
    "fig, axes = plt.subplots(1,2, sharex=True, sharey=True)\n",
    "axes[0].imshow(data_mskd)\n",
    "axes[0].set_title('Clipped test data')\n",
    "\n",
    "axes[1].imshow(mt.data)\n",
    "axes[1].set_title('Test data from disk')\n",
    "plt.show()\n",
    "\n",
    "if np.array_equal(data_mskd, mt.data):\n",
    "    print ('Data sets are the same')\n",
    "else:\n",
    "    raise ('Test data on disk does not match clipped data')"
   ]
  },
  {
   "cell_type": "markdown",
   "metadata": {},
   "source": [
    "## Create composite albedo test data and plot to test"
   ]
  },
  {
   "cell_type": "code",
   "execution_count": 15,
   "metadata": {},
   "outputs": [],
   "source": [
    "%matplotlib qt\n",
    "importlib.reload(albedo)\n",
    "importlib.reload(modis)\n",
    "cad = albedo.CompositeAlbedoDay.run(d, test_data_path, test_data_path, test_data_path, \n",
    "                                   ims_shape=(rows, cols), modis_shape=m_shape)\n",
    "cad.write_albedo()\n",
    "\n",
    "it = ims.ImsDay(d, test_data_path, shape=(rows, cols))\n",
    "mt = modis.ModisDay(d, test_data_path, shape=m_shape)\n",
    "\n",
    "fig, axes = plt.subplots(1,3)\n",
    "im0 = axes[0].imshow(it.data)\n",
    "axes[0].set_title(f'IMS-lat({min(cad.ims.lat)}, {max(cad.ims.lat)})\\n' + \n",
    "                    f'lon({min(cad.ims.lon)}, {max(cad.ims.lon)})\\n' +\n",
    "                    f'Shape: {cad.ims.data.shape}')\n",
    "fig.colorbar(im0, ax = axes[0])\n",
    "\n",
    "im1 = axes[1].imshow(mt.data, vmin=0, vmax=870)\n",
    "axes[1].set_title(f'MODIS-lat({min(cad.modis.lat)}, {max(cad.modis.lat)})\\n' + \n",
    "                    f'lon({min(cad.modis.lon)}, {max(cad.modis.lon)})\\n' + \n",
    "                    f'Shape: {cad.modis.data.shape}')\n",
    "fig.colorbar(im1, ax = axes[1])\n",
    "\n",
    "im2 = axes[2].imshow(cad.albedo, vmin=0, vmax=87)\n",
    "axes[2].set_title(f'Composite albedo')\n",
    "fig.colorbar(im2, ax = axes[2])\n",
    "fig.suptitle(f'{d}, IMS res: {res}')\n",
    "plt.show()"
   ]
  },
  {
   "cell_type": "code",
   "execution_count": null,
   "metadata": {},
   "outputs": [],
   "source": []
  },
  {
   "cell_type": "code",
   "execution_count": null,
   "metadata": {},
   "outputs": [],
   "source": []
  },
  {
   "cell_type": "markdown",
   "metadata": {},
   "source": [
    "## Scratch\n"
   ]
  },
  {
   "cell_type": "code",
   "execution_count": null,
   "metadata": {},
   "outputs": [],
   "source": []
  }
 ],
 "metadata": {
  "kernelspec": {
   "display_name": "Python 3",
   "language": "python",
   "name": "python3"
  },
  "language_info": {
   "codemirror_mode": {
    "name": "ipython",
    "version": 3
   },
   "file_extension": ".py",
   "mimetype": "text/x-python",
   "name": "python",
   "nbconvert_exporter": "python",
   "pygments_lexer": "ipython3",
   "version": "3.7.4"
  }
 },
 "nbformat": 4,
 "nbformat_minor": 2
}
